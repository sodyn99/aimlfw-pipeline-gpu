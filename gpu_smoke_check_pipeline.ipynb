{
 "cells": [
  {
   "cell_type": "code",
   "execution_count": null,
   "id": "e2dbc363-983d-4588-90a0-2a23cceba43b",
   "metadata": {},
   "outputs": [],
   "source": [
    "import kfp\n",
    "from kfp import dsl\n",
    "from kfp import kubernetes\n",
    "\n",
    "@dsl.component(\n",
    "    base_image='traininghost/pipelinegpuimage:latest',\n",
    ")\n",
    "def gpu_smoking_check():\n",
    "    import subprocess\n",
    "    result = subprocess.run(['nvidia-smi'], capture_output=True, text=True)\n",
    "    print(result.stdout)\n",
    "\n",
    "@dsl.pipeline(\n",
    "    name='GPU smoke check',\n",
    "    description='Smoke check to see whether GPU environment is ready.'\n",
    ")\n",
    "def gpu_pipeline():\n",
    "    gpu_check_task = gpu_smoking_check() \\\n",
    "        .set_gpu_limit(1)\n",
    "    kubernetes.set_image_pull_policy(gpu_check_task, \"IfNotPresent\")\n",
    "\n",
    "if __name__ == '__main__':\n",
    "    file_name = \"gpu_smoke_check\"\n",
    "    kfp.compiler.Compiler().compile(gpu_pipeline, f'{file_name}.yaml')"
   ]
  },
  {
   "cell_type": "code",
   "execution_count": null,
   "id": "afe9609e-edc5-4a26-be5d-e81ee9ad4280",
   "metadata": {},
   "outputs": [],
   "source": [
    "import requests\n",
    "pipeline_name = \"gpu_smoke_check\"\n",
    "pipeline_file = file_name + '.yaml'\n",
    "response = requests.post(\n",
    "    \"http://tm.traininghost:32002/pipelines/{}/upload\".format(pipeline_name),\n",
    "    files={'file': open(pipeline_file,'rb')}\n",
    ")\n",
    "\n",
    "if response.status_code == 200:\n",
    "    print(f\"Pipeline YAML file '{file_name}.yaml' has been generated and uploaded successfully.\")\n",
    "else:\n",
    "    print(f\"Failed to upload pipeline. Status code: {response.status_code}\")\n",
    "    print(f\"Response content: {response.content}\")"
   ]
  }
 ],
 "metadata": {
  "kernelspec": {
   "display_name": "aimlfw",
   "language": "python",
   "name": "python3"
  },
  "language_info": {
   "codemirror_mode": {
    "name": "ipython",
    "version": 3
   },
   "file_extension": ".py",
   "mimetype": "text/x-python",
   "name": "python",
   "nbconvert_exporter": "python",
   "pygments_lexer": "ipython3",
   "version": "3.11.10"
  }
 },
 "nbformat": 4,
 "nbformat_minor": 5
}
